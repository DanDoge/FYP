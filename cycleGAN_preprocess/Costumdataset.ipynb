{
 "cells": [
  {
   "cell_type": "code",
   "execution_count": 1,
   "metadata": {},
   "outputs": [],
   "source": [
    "from torch.utils.data import Dataset\n",
    "import torch\n",
    "import torchvision.transforms as transforms\n",
    "from PIL import Image\n",
    "import os\n",
    "from torch.utils.data import DataLoader"
   ]
  },
  {
   "cell_type": "code",
   "execution_count": 2,
   "metadata": {},
   "outputs": [],
   "source": [
    "class ImageDataset(Dataset):\n",
    "    def __init__(self, root, transforms_=None, unaligned=False, mode='train'):\n",
    "        self.transform = transforms.Compose(transforms_)\n",
    "        self.unaligned = unaligned\n",
    "\n",
    "        self.model_list = self.get_models(root)\n",
    "        self.files_A = []\n",
    "        self.files_B = []\n",
    "        self.get_AB(root)\n",
    "        \n",
    "    def get_models(self, root):\n",
    "        return os.listdir(root)\n",
    "    \n",
    "    def get_AB(self, root):\n",
    "        for model in self.model_list:\n",
    "            path_model = os.path.join(root, model)\n",
    "            for img in os.listdir(path_model):\n",
    "                if \"depth\" in img:\n",
    "                    self.files_A.append([os.path.join(path_model, img), os.path.join(path_model, img.replace(\"depth\", \"normal\"))])\n",
    "                if \"albedo\" in img:\n",
    "                    self.files_B.append(os.path.join(path_model, img))\n",
    "                \n",
    "\n",
    "    def __getitem__(self, index):\n",
    "        item_A_depth = self.transform(Image.open(self.files_A[index % len(self.files_A)][0]).convert(\"RGB\"))\n",
    "        item_A_normal = self.transform(Image.open(self.files_A[index % len(self.files_A)][1]).convert(\"RGB\"))\n",
    "        item_A = torch.cat((item_A_depth, item_A_normal), 0)\n",
    "\n",
    "        if self.unaligned:\n",
    "            item_B = self.transform(Image.open(self.files_B[random.randint(0, len(self.files_B) - 1)]).convert(\"RGB\"))\n",
    "        else:\n",
    "            item_B = self.transform(Image.open(self.files_B[index % len(self.files_B)]).convert(\"RGB\"))\n",
    "\n",
    "        return {'A': item_A, 'B': item_B}\n",
    "\n",
    "    def __len__(self):\n",
    "        return max(len(self.files_A), len(self.files_B))\n"
   ]
  },
  {
   "cell_type": "code",
   "execution_count": 3,
   "metadata": {},
   "outputs": [],
   "source": [
    "transforms_ = [ transforms.Resize(int(256*1.12), Image.BICUBIC),\n",
    "                transforms.RandomCrop(256),\n",
    "                transforms.RandomHorizontalFlip(),\n",
    "                transforms.ToTensor() ]\n",
    "\n",
    "dataset = ImageDataset(\"E:\\data_cycleGAN\", transforms_=transforms_)\n",
    "loader = DataLoader(dataset)"
   ]
  },
  {
   "cell_type": "code",
   "execution_count": 4,
   "metadata": {},
   "outputs": [
    {
     "data": {
      "image/png": "[encoded data removed]",
      "text/plain": [
       "<PIL.Image.Image image mode=LA size=256x256 at 0x241BB0E2978>"
      ]
     },
     "execution_count": 4,
     "metadata": {},
     "output_type": "execute_result"
    }
   ],
   "source": [
    "Image.open(dataset.files_A[0][0]).convert(\"LA\")"
   ]
  },
  {
   "cell_type": "code",
   "execution_count": 5,
   "metadata": {},
   "outputs": [
    {
     "name": "stdout",
     "output_type": "stream",
     "text": [
      "torch.Size([1, 6, 256, 256])\n",
      "torch.Size([1, 3, 256, 256])\n"
     ]
    }
   ],
   "source": [
    "import matplotlib.pyplot as plt\n",
    "for batch in loader:\n",
    "    print(batch[\"A\"].shape)\n",
    "    print(batch[\"B\"].shape)\n",
    "    break"
   ]
  },
  {
   "cell_type": "code",
   "execution_count": null,
   "metadata": {},
   "outputs": [],
   "source": []
  }
 ],
 "metadata": {
  "kernelspec": {
   "display_name": "Python 3",
   "language": "python",
   "name": "python3"
  },
  "language_info": {
   "codemirror_mode": {
    "name": "ipython",
    "version": 3
   },
   "file_extension": ".py",
   "mimetype": "text/x-python",
   "name": "python",
   "nbconvert_exporter": "python",
   "pygments_lexer": "ipython3",
   "version": "3.7.0"
  }
 },
 "nbformat": 4,
 "nbformat_minor": 2
}
