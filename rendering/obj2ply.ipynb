{
 "cells": [
  {
   "cell_type": "code",
   "execution_count": 2,
   "metadata": {},
   "outputs": [],
   "source": [
    "import os\n",
    "import pickle\n",
    "import numpy as np\n",
    "from PIL import Image\n",
    "from collections import OrderedDict\n",
    "import matplotlib\n",
    "import matplotlib.pyplot as plt"
   ]
  },
  {
   "cell_type": "code",
   "execution_count": 3,
   "metadata": {},
   "outputs": [],
   "source": [
    "model_path = \"C:\\\\Users\\\\AndrewHuang\\\\Documents\\\\GitHub\\\\02958343\\\\02958343\\\\1a0bc9ab92c915167ae33d942430658c\\\\model.obj\""
   ]
  },
  {
   "cell_type": "code",
   "execution_count": 4,
   "metadata": {},
   "outputs": [],
   "source": [
    "vertex_list = []\n",
    "face_list = []"
   ]
  },
  {
   "cell_type": "code",
   "execution_count": 5,
   "metadata": {},
   "outputs": [],
   "source": [
    "def get_vertex_face(model_path):\n",
    "    vertex_list = []\n",
    "    face_list = []\n",
    "    with open(model_path, \"r\") as f:\n",
    "        for line in f:\n",
    "            if line.startswith(\"#\") or line.startswith(\"mtllib\") or line.startswith(\"g\") or line.startswith(\"usemtl\"):\n",
    "                continue\n",
    "            elif line.startswith(\"v \"):\n",
    "                #print(line.split())\n",
    "                x = float(line.split(\" \")[1])\n",
    "                y = float(line.split(\" \")[2])\n",
    "                z = float(line.split(\" \")[3])\n",
    "                vertex_list.append([x, y, z])\n",
    "                continue\n",
    "            elif line.startswith(\"f \"):\n",
    "                v1 = int(line.split(\" \")[1].split(\"/\")[0])\n",
    "                v2 = int(line.split(\" \")[2].split(\"/\")[0])\n",
    "                v3 = int(line.split(\" \")[3].split(\"/\")[0])\n",
    "                face_list.append([v1, v2, v3])\n",
    "                continue\n",
    "    return vertex_list, face_list"
   ]
  },
  {
   "cell_type": "code",
   "execution_count": 21,
   "metadata": {},
   "outputs": [],
   "source": [
    "### done, successfully reconstruct a 3d model without texture\n",
    "with open(\"./test_ply.ply\", \"w\") as f:\n",
    "    f.write(\"ply\\n\")\n",
    "    f.write(\"format ascii 1.0\\n\")\n",
    "    f.write(\"element vertex \" + str(len(vertex_list)) + \"\\n\")\n",
    "    f.write(\"property float x\\n\")\n",
    "    f.write(\"property float y\\n\")\n",
    "    f.write(\"property float z\\n\")\n",
    "    f.write(\"element face \" + str(len(face_list)) + \"\\n\")\n",
    "    f.write(\"property list uint8 uint32 vertex_indices\\n\")\n",
    "    f.write(\"end_header\\n\")\n",
    "    for vertex in vertex_list:\n",
    "        f.write(str(vertex[0]) + \" \" + str(vertex[1]) + \" \" + str(vertex[2]) + \"\\n\")\n",
    "    for face in face_list:\n",
    "        f.write(str(3) + \" \" + str(face[0] - 1) + \" \" + str(face[1] - 1) + \" \" + str(face[2] - 1) + \"\\n\")"
   ]
  },
  {
   "cell_type": "code",
   "execution_count": 8,
   "metadata": {},
   "outputs": [
    {
     "name": "stdout",
     "output_type": "stream",
     "text": [
      "./rotate\\model_name_0\n",
      "./rotate\\model_name_1000\n",
      "./rotate\\model_name_2000\n",
      "./rotate\\model_name_3000\n",
      "./rotate\\model_name_5000\n",
      "./rotate\\model_name_6000\n",
      "./rotate\\model_name_7000\n",
      "./rotate\\model_name_8000\n",
      "./rotate\\model_name_9000\n"
     ]
    }
   ],
   "source": [
    "model_list = []\n",
    "for file in os.listdir(\"./rotate\"):\n",
    "    if file.startswith(\"model_name_\"):\n",
    "        print(os.path.join(\"./rotate\", file))\n",
    "        with open(os.path.join(\"./rotate\", file), \"rb\") as f:\n",
    "            model_list_partial = pickle.load(f)\n",
    "        for model in model_list_partial:\n",
    "            model_list.append(model.split(\"/\")[-2])\n",
    "    #break\n",
    "\n",
    "precision_constant = 10000\n",
    "    \n",
    "model_path = \"C:\\\\Users\\\\AndrewHuang\\\\Documents\\\\GitHub\\\\02958343\\\\02958343\"\n",
    "for idx, model in enumerate(model_list):\n",
    "    #os.system(\"blender --background --python 3dloc_2dcoor.py -- --views 18 \" + os.path.join(model_path, model, \"model.obj\"))\n",
    "    with open(\"./vertex2pixel\", \"rb\") as f:\n",
    "        vertex2pixel = pickle.load(f)\n",
    "    with open(\"./pixel2vertex\", \"rb\") as f:\n",
    "        pixel2vertex = pickle.load(f)\n",
    "    vertex2color = OrderedDict()\n",
    "    for az in range(18):\n",
    "        for el in range(3):\n",
    "            real_img_path = \"C:\\\\tmp\\\\test\\\\\" + model + \"\\\\\" + model + \"_az_\" + str(az * 20) + \"_el_\" + str(el * 10) + \"_albedo.png0001.png\"\n",
    "            realimg = np.array(Image.open(real_img_path).convert(\"RGB\"))\n",
    "            syn_img_path = \"./rotate/rotate/\" + str(idx * 1000 + az * 10 + el) + \".0.jpg\"\n",
    "            synimg = np.array(Image.open(syn_img_path))\n",
    "            '''\n",
    "            for vertex_pixel_pair in vertex2pixel[\"az_\" + str(az * 20) + \"_el_\" + str(el * 10)]:\n",
    "                if not repr((precision_constant * np.array(vertex_pixel_pair[:3])).astype(int)) in vertex2color:\n",
    "                    vertex2color[repr((precision_constant * np.array(vertex_pixel_pair[:3])).astype(int))] = []\n",
    "                vertex2color[repr((precision_constant * np.array(vertex_pixel_pair[:3])).astype(int))].append(realimg[vertex_pixel_pair[3], vertex_pixel_pair[3]])\n",
    "            '''\n",
    "            for i in range(128):\n",
    "                for j in range(128):\n",
    "                    if pixel2vertex[az, el, i, j, 0] != 1234567.0:\n",
    "                        if not repr((10000 * pixel2vertex[az, el, i, j, 1:]).astype(int)) in vertex2color:\n",
    "                            vertex2color[repr((precision_constant * pixel2vertex[az, el, i, j, 1:]).astype(int))] = []\n",
    "                        #vertex2color[repr((precision_constant * pixel2vertex[az, el, i, j, 1:]).astype(int))].append(realimg[i, j])\n",
    "                        vertex2color[repr((precision_constant * pixel2vertex[az, el, i, j, 1:]).astype(int))].append(synimg[i, j])\n",
    "            \n",
    "    vertex_list, face_list = get_vertex_face(os.path.join(model_path, model, \"model.obj\"))\n",
    "    color_list = np.zeros(shape=(len(vertex_list), 3)).astype(int)\n",
    "    for idx, vertex in enumerate(vertex_list):\n",
    "        color = [0, 0, 0]\n",
    "        if repr((np.array(vertex) * precision_constant).astype(int)) in vertex2color:\n",
    "            color = np.mean(vertex2color[repr((np.array(vertex) * precision_constant).astype(int))], axis=0).astype(int)\n",
    "        color_list[idx] = color\n",
    "    vertex2neighbor = np.zeros(shape=(len(vertex_list), 2)) # idx, dist\n",
    "    vertex2neighbor[:, 1] = 2.0\n",
    "    for face in face_list:\n",
    "        v1, v2, v3 = face[0] - 1, face[1] - 1, face[2] - 1;\n",
    "        d12 = np.linalg.norm(np.array(vertex_list[v1]) - np.array(vertex_list[v2]))\n",
    "        d23 = np.linalg.norm(np.array(vertex_list[v2]) - np.array(vertex_list[v3]))\n",
    "        d31 = np.linalg.norm(np.array(vertex_list[v3]) - np.array(vertex_list[v1]))\n",
    "        if d12 < vertex2neighbor[v1, 1]:\n",
    "            vertex2neighbor[v1, 0] = v2\n",
    "            vertex2neighbor[v1, 1] = d12\n",
    "        if d12 < vertex2neighbor[v2, 1]:\n",
    "            vertex2neighbor[v2, 0] = v1\n",
    "            vertex2neighbor[v2, 1] = d12\n",
    "        if d23 < vertex2neighbor[v2, 1]:\n",
    "            vertex2neighbor[v2, 0] = v3\n",
    "            vertex2neighbor[v2, 1] = d23\n",
    "        if d23 < vertex2neighbor[v3, 1]:\n",
    "            vertex2neighbor[v3, 0] = v2\n",
    "            vertex2neighbor[v3, 1] = d23\n",
    "        if d31 < vertex2neighbor[v1, 1]:\n",
    "            vertex2neighbor[v1, 0] = v3\n",
    "            vertex2neighbor[v1, 1] = d31\n",
    "        if d31 < vertex2neighbor[v3, 1]:\n",
    "            vertex2neighbor[v3, 0] = v1\n",
    "            vertex2neighbor[v3, 1] = d31\n",
    "    cnt_loop = 0\n",
    "    while True:\n",
    "        cnt_loop += 1\n",
    "        all_vertex_not_colored = True\n",
    "        for idx, vertex in enumerate(vertex_list):\n",
    "            if np.sum(color_list[idx]) == 0 and np.sum(color_list[int(vertex2neighbor[idx, 0])]) != 0:\n",
    "                color_list[idx] = color_list[int(vertex2neighbor[idx, 0])]\n",
    "                all_vertex_not_colored = False\n",
    "        if all_vertex_not_colored:\n",
    "            break\n",
    "        if cnt_loop >= 1000:\n",
    "            break\n",
    "            \n",
    "\n",
    "    with open(\"./test_ply_syn_mindist_propagation.ply\", \"w\") as f:\n",
    "        f.write(\"ply\\n\")\n",
    "        f.write(\"format ascii 1.0\\n\")\n",
    "        f.write(\"element vertex \" + str(len(vertex_list)) + \"\\n\")\n",
    "        f.write(\"property float x\\n\")\n",
    "        f.write(\"property float y\\n\")\n",
    "        f.write(\"property float z\\n\")\n",
    "        f.write(\"property uchar red\\n\")\n",
    "        f.write(\"property uchar green\\n\")\n",
    "        f.write(\"property uchar blue\\n\")\n",
    "        f.write(\"element face \" + str(len(face_list)) + \"\\n\")\n",
    "        f.write(\"property list uint8 uint32 vertex_indices\\n\")\n",
    "        f.write(\"end_header\\n\")\n",
    "        for idx, vertex in enumerate(vertex_list):\n",
    "            color = color_list[idx]\n",
    "            f.write(str(vertex[0]) + \" \" + str(vertex[1]) + \" \" + str(vertex[2]) + \" \" + str(color[0]) + \" \" + str(color[1]) + \" \" + str(color[2]) + \"\\n\")\n",
    "        for face in face_list:\n",
    "            f.write(str(3) + \" \" + str(face[0] - 1) + \" \" + str(face[1] - 1) + \" \" + str(face[2] - 1) + \"\\n\")\n",
    "    if idx >= 0:\n",
    "        break"
   ]
  },
  {
   "cell_type": "code",
   "execution_count": 9,
   "metadata": {},
   "outputs": [
    {
     "name": "stdout",
     "output_type": "stream",
     "text": [
      "1776\n"
     ]
    }
   ],
   "source": [
    "cnt = 0\n",
    "for color in color_list:\n",
    "    if np.sum(color) == 0.0:\n",
    "        cnt += 1\n",
    "print(cnt)"
   ]
  },
  {
   "cell_type": "code",
   "execution_count": 27,
   "metadata": {},
   "outputs": [
    {
     "data": {
      "text/plain": [
       "'7b2dcc7c4c879e9116f7ad0d1093bd39'"
      ]
     },
     "execution_count": 27,
     "metadata": {},
     "output_type": "execute_result"
    }
   ],
   "source": [
    "model_list[0]"
   ]
  },
  {
   "cell_type": "code",
   "execution_count": null,
   "metadata": {},
   "outputs": [],
   "source": [
    "# test_ply_real: threshold = 1.0, with min dist, real pixel, const=10000\n",
    "# test_plt_syn: threshold = 1.0, with min dist, syn pixel, const=10000\n",
    "# with min dist:threshold = 1.0 or 0.2 -> blurry, but why? \n",
    "#    - instable ray_cast?\n",
    "# threshold = 0.2: more vertices left blank, with const=1e6\n",
    "#    - fixed with const=10000, see test_ply_real_threshold20\n",
    "# 0615: epoch=3, lossGB about 2.0, run with real depth image"
   ]
  }
 ],
 "metadata": {
  "kernelspec": {
   "display_name": "Python 3",
   "language": "python",
   "name": "python3"
  },
  "language_info": {
   "codemirror_mode": {
    "name": "ipython",
    "version": 3
   },
   "file_extension": ".py",
   "mimetype": "text/x-python",
   "name": "python",
   "nbconvert_exporter": "python",
   "pygments_lexer": "ipython3",
   "version": "3.7.0"
  }
 },
 "nbformat": 4,
 "nbformat_minor": 2
}
