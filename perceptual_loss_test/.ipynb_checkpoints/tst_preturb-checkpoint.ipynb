{
 "cells": [
  {
   "cell_type": "code",
   "execution_count": 1,
   "metadata": {},
   "outputs": [],
   "source": [
    "img_path = \"C:\\\\tmp\\\\1005ca47e516495512da0dbf3c68e847\""
   ]
  },
  {
   "cell_type": "code",
   "execution_count": 2,
   "metadata": {},
   "outputs": [],
   "source": [
    "import torchvision.models as models\n",
    "import os\n",
    "from PIL import Image\n",
    "import matplotlib.image as mpimg\n",
    "import matplotlib.pyplot as plt\n",
    "import numpy as np\n",
    "from torchvision import transforms\n",
    "import pickle\n",
    "%matplotlib inline"
   ]
  },
  {
   "cell_type": "code",
   "execution_count": 3,
   "metadata": {},
   "outputs": [],
   "source": [
    "model = models.resnet18(pretrained=True)"
   ]
  },
  {
   "cell_type": "code",
   "execution_count": 4,
   "metadata": {},
   "outputs": [],
   "source": [
    "img_list = []\n",
    "az_list = [60 * i for i in range(6)]\n",
    "el_list = [-15, 0, 15, 30]\n",
    "car = \"1005ca47e516495512da0dbf3c68e847\"\n",
    "if True:\n",
    "    for az in az_list:\n",
    "        for el in el_list:\n",
    "            img_list.append(os.path.join(img_path, \"{}_az_{}_el_{}_albedo.png0001.png\".format(car, str(az), str(el))))"
   ]
  },
  {
   "cell_type": "code",
   "execution_count": null,
   "metadata": {
    "scrolled": true
   },
   "outputs": [
    {
     "name": "stdout",
     "output_type": "stream",
     "text": [
      "new image...\n",
      "noise level: 1\n",
      "new difference in feature map: 0.0\n",
      "new difference in feature map: 0.0\n",
      "new difference in feature map: 0.0\n",
      "new difference in feature map: 0.0\n",
      "new difference in feature map: 0.00034535513259470463\n",
      "new difference in feature map: 0.00034535513259470463\n",
      "new difference in feature map: 0.00034535513259470463\n",
      "new difference in feature map: 0.00034535513259470463\n",
      "new error value for  1  is:  0.0013814205303788185\n",
      "noise level: 6\n",
      "new difference in feature map: 0.0\n",
      "new difference in feature map: 0.0\n",
      "new difference in feature map: 0.0\n",
      "new difference in feature map: 0.0\n",
      "new difference in feature map: 0.000905666034668684\n",
      "new difference in feature map: 0.000905666034668684\n",
      "new difference in feature map: 0.000905666034668684\n",
      "new difference in feature map: 0.000905666034668684\n",
      "new error value for  6  is:  0.003622664138674736\n",
      "noise level: 11\n",
      "new difference in feature map: 0.0\n",
      "new difference in feature map: 0.0\n",
      "new difference in feature map: 0.0\n",
      "new difference in feature map: 0.0\n",
      "new difference in feature map: 0.0018407392781227827\n",
      "new difference in feature map: 0.0018407392781227827\n",
      "new difference in feature map: 0.0018407392781227827\n",
      "new difference in feature map: 0.0018407392781227827\n",
      "new error value for  11  is:  0.007362957112491131\n",
      "noise level: 16\n",
      "new difference in feature map: 0.0\n",
      "new difference in feature map: 0.0\n",
      "new difference in feature map: 0.0\n",
      "new difference in feature map: 0.0\n",
      "new difference in feature map: 0.0019930903799831867\n",
      "new difference in feature map: 0.0019930903799831867\n",
      "new difference in feature map: 0.0019930903799831867\n",
      "new difference in feature map: 0.0019930903799831867\n",
      "new error value for  16  is:  0.007972361519932747\n",
      "noise level: 21\n",
      "new difference in feature map: 0.0\n",
      "new difference in feature map: 0.0\n",
      "new difference in feature map: 0.0\n",
      "new difference in feature map: 0.0\n",
      "new difference in feature map: 0.003353938926011324\n",
      "new difference in feature map: 0.003353938926011324\n",
      "new difference in feature map: 0.003353938926011324\n",
      "new difference in feature map: 0.003353938926011324\n",
      "new error value for  21  is:  0.013415755704045296\n",
      "noise level: 26\n",
      "new difference in feature map: 0.0\n",
      "new difference in feature map: 0.0\n",
      "new difference in feature map: 0.0\n",
      "new difference in feature map: 0.0\n",
      "new difference in feature map: 0.00354610662907362\n",
      "new difference in feature map: 0.00354610662907362\n",
      "new difference in feature map: 0.00354610662907362\n",
      "new difference in feature map: 0.00354610662907362\n",
      "new error value for  26  is:  0.01418442651629448\n",
      "noise level: 31\n",
      "new difference in feature map: 0.0\n",
      "new difference in feature map: 0.0\n",
      "new difference in feature map: 0.0\n",
      "new difference in feature map: 0.0\n"
     ]
    }
   ],
   "source": [
    "outputs = []\n",
    "def hook(module, input, output):\n",
    "    print(\"!\")\n",
    "    outputs.append(output.detach().numpy())\n",
    "\n",
    "model.layer4[-1].register_forward_hook(hook)\n",
    "\n",
    "error = np.zeros(shape=256)\n",
    "\n",
    "img_idx = 0\n",
    "for img in img_list:\n",
    "    print(\"new image...\")\n",
    "    im = Image.open(img).convert(\"RGB\")\n",
    "    img = transforms.ToTensor()(im.convert(\"RGB\")).unsqueeze(0)\n",
    "    im = np.array(im).reshape([-1, 3])\n",
    "    color_unq, indices = np.unique(im, axis=0, return_inverse=True)\n",
    "    for noise in range(1, 256, 5):\n",
    "        print(\"noise level:\", noise)\n",
    "        feat_gt = model(img.float())\n",
    "        for i in range(1, 9):\n",
    "            im_new = np.zeros(shape=[256 * 256, 3])\n",
    "            for idx_color, color in enumerate(color_unq):\n",
    "                if (color == (0, 0, 0)).all():\n",
    "                    continue\n",
    "                delta = (np.random.rand(3) - 0.5) * noise\n",
    "                im_new[indices == idx_color] = delta + color\n",
    "                im_new[im_new < 0] = 0\n",
    "                im_new[im_new > 255] = 255\n",
    "            im_new = im_new.reshape([256, 256, 3]).astype(np.int)\n",
    "            #plt.imshow(im_new)\n",
    "            im_new = Image.fromarray(np.uint8(im_new))\n",
    "            img = transforms.ToTensor()(im_new.convert(\"RGB\")).unsqueeze(0)\n",
    "            feat = model(img.float())\n",
    "            diff = np.linalg.norm(outputs[i] - outputs[0]) / (512. * 8 * 8)\n",
    "            print(\"new difference in feature map:\", diff)\n",
    "            error[noise] += diff\n",
    "        outputs.clear()\n",
    "        print(\"new error value for \", noise, \" is: \", error[noise])\n",
    "            \n",
    "    '''\n",
    "    for noise in range(1, 256, 5):\n",
    "        print(img_idx, \" \", noise)\n",
    "        feat_gt = model(img.float())\n",
    "        for i in range(1, 9):\n",
    "            im_tmp = im + (np.random.rand(256, 256, 3) - 0.5) * noise\n",
    "            im_tmp[im_tmp < 0] = 0\n",
    "            im_tmp[im_tmp > 255] = 255\n",
    "            img = Image.fromarray(np.uint8(im_tmp))\n",
    "            img = transforms.ToTensor()(img.convert(\"RGB\")).unsqueeze(0)\n",
    "            feat = model(img.float())\n",
    "            diff = outputs[i] - outputs[0]\n",
    "            error[noise] += np.linalg.norm(diff) /(512. * 8 * 8)\n",
    "            #print(len(outputs))\n",
    "        outputs.clear()\n",
    "    img_idx += 1\n",
    "            #print(error)\n",
    "    '''\n",
    "    #break"
   ]
  },
  {
   "cell_type": "code",
   "execution_count": 9,
   "metadata": {},
   "outputs": [
    {
     "data": {
      "image/png": "[encoded data removed]",
      "text/plain": [
       "<Figure size 432x288 with 1 Axes>"
      ]
     },
     "metadata": {
      "needs_background": "light"
     },
     "output_type": "display_data"
    }
   ],
   "source": [
    "plt.plot(error[error != 0])\n",
    "plt.savefig(\"loss_as_func_of_preturb\")"
   ]
  },
  {
   "cell_type": "code",
   "execution_count": 6,
   "metadata": {},
   "outputs": [
    {
     "data": {
      "text/plain": [
       "dtype('uint8')"
      ]
     },
     "execution_count": 6,
     "metadata": {},
     "output_type": "execute_result"
    }
   ],
   "source": [
    "im_preturbed[0][0].dtype"
   ]
  },
  {
   "cell_type": "code",
   "execution_count": 7,
   "metadata": {},
   "outputs": [],
   "source": [
    "outputs = []\n",
    "def hook(module, input, output):\n",
    "    outputs.append(output.detach().numpy().tolist())\n",
    "\n",
    "model.layer4[-1].register_forward_hook(hook)\n",
    "\n",
    "for img_idx in range(24):\n",
    "    for ptb_idx in range(41):\n",
    "        img = Image.fromarray(np.uint8(im_preturbed[img_idx][ptb_idx]))\n",
    "        img = transforms.ToTensor()(img.convert(\"RGB\")).unsqueeze(0)\n",
    "        #print(img.size())\n",
    "        feat = model(img.float())\n",
    "    with open(\"./\" + str(img_idx), \"wb\") as f:\n",
    "        pickle.dump(outputs, f)\n",
    "    outputs.clear()\n",
    "    #break"
   ]
  },
  {
   "cell_type": "code",
   "execution_count": null,
   "metadata": {},
   "outputs": [],
   "source": []
  }
 ],
 "metadata": {
  "kernelspec": {
   "display_name": "Python 3",
   "language": "python",
   "name": "python3"
  },
  "language_info": {
   "codemirror_mode": {
    "name": "ipython",
    "version": 3
   },
   "file_extension": ".py",
   "mimetype": "text/x-python",
   "name": "python",
   "nbconvert_exporter": "python",
   "pygments_lexer": "ipython3",
   "version": "3.7.0"
  }
 },
 "nbformat": 4,
 "nbformat_minor": 2
}
