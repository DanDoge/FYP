{
 "cells": [
  {
   "cell_type": "code",
   "execution_count": 16,
   "metadata": {},
   "outputs": [],
   "source": [
    "import os\n",
    "import pickle\n",
    "import numpy as np\n",
    "from PIL import Image\n",
    "from collections import OrderedDict"
   ]
  },
  {
   "cell_type": "code",
   "execution_count": 10,
   "metadata": {},
   "outputs": [],
   "source": [
    "model_list = []"
   ]
  },
  {
   "cell_type": "code",
   "execution_count": 11,
   "metadata": {},
   "outputs": [
    {
     "name": "stdout",
     "output_type": "stream",
     "text": [
      "./rotate\\model_name_0\n",
      "./rotate\\model_name_1000\n",
      "./rotate\\model_name_2000\n",
      "./rotate\\model_name_3000\n",
      "./rotate\\model_name_5000\n",
      "./rotate\\model_name_6000\n",
      "./rotate\\model_name_7000\n",
      "./rotate\\model_name_8000\n",
      "./rotate\\model_name_9000\n"
     ]
    }
   ],
   "source": [
    "for file in os.listdir(\"./rotate\"):\n",
    "    if file.startswith(\"model_name_\"):\n",
    "        print(os.path.join(\"./rotate\", file))\n",
    "        with open(os.path.join(\"./rotate\", file), \"rb\") as f:\n",
    "            model_list_partial = pickle.load(f)\n",
    "        for model in model_list_partial:\n",
    "            model_list.append(model.split(\"/\")[-2])\n",
    "    #break"
   ]
  },
  {
   "cell_type": "code",
   "execution_count": 13,
   "metadata": {},
   "outputs": [
    {
     "data": {
      "text/plain": [
       "9000"
      ]
     },
     "execution_count": 13,
     "metadata": {},
     "output_type": "execute_result"
    }
   ],
   "source": [
    "syn_loss = np.zeros(shape=len(model_list))"
   ]
  },
  {
   "cell_type": "code",
   "execution_count": 15,
   "metadata": {},
   "outputs": [
    {
     "name": "stdout",
     "output_type": "stream",
     "text": [
      "7b2dcc7c4c879e9116f7ad0d1093bd39\n"
     ]
    }
   ],
   "source": [
    "for idx, model in enumerate(model_list):\n",
    "    print(model)\n",
    "    break\n",
    "    for az in range(18):\n",
    "        for el in range(3):\n",
    "            real_img_path = \"C:\\\\tmp\\\\test\\\\\" + model + \"\\\\\" + model + \"_az_\" + str(az * 20) + \"_el_\" + str(el * 10) + \"_albedo.png0001.png\"\n",
    "            syn_img_path = \"./rotate/rotate/\" + str(idx * 1000 + az * 10 + el) + \".0.jpg\"\n",
    "            realimg = np.array(Image.open(real_img_path))\n",
    "            synimg = np.array(Image.open(syn_img_path))\n",
    "            syn_loss[idx] += np.mean(np.abs(realimg - synimg))\n",
    "    syn_loss[idx] /= 54\n",
    "print(np.mean(syn_loss) / 256. * 3)"
   ]
  },
  {
   "cell_type": "code",
   "execution_count": null,
   "metadata": {},
   "outputs": [],
   "source": [
    "model_path = \"C:\\\\Users\\\\AndrewHuang\\\\Documents\\\\GitHub\\\\02958343\\\\02958343\"\n",
    "refine_loss = np.zeros(shape=len(model_list))\n",
    "for idx, model in enmerate(model_list):\n",
    "    print(model)\n",
    "    break\n",
    "    os.system(\"blender --background --python 3dloc_2dcoor.py -- --views 18 \" + os.path.join(model_path, model, \"model.obj\"))\n",
    "    with open(\"./vertex2pixel_\" + model, \"rb\") as f:\n",
    "        vertex2pixel = pickle.load(f)\n",
    "    with open(\"./pixel2vertex_\" + model, \"rb\") as f:\n",
    "        pixel2vertex = pickle.dump(f)\n",
    "    vertex2color = OrderedDict()\n",
    "    for az in range(18):\n",
    "        for el in range(3):\n",
    "            syn_img_path = \"./rotate/rotate/\" + str(idx * 1000 + az * 10 + el) + \".0.jpg\"\n",
    "            for i in range(128):\n",
    "                for j in range(128):\n",
    "                    if pixel2vertex[az, el, i, j, 0] != 1234567.0:\n",
    "                        if not repr(pixel2vertex[az, el, i, j, 1:]) in vertex2color:\n",
    "                            vertex2color[repr(pixel2vertex[az, el, i, j, 1:])] = []\n",
    "                        vertex2color[repr(pixel2vertex[az, el, i, j, 1:])].append(syn_img_path[i, j])\n",
    "    for az in range(18):\n",
    "        for el in range(3):\n",
    "            real_img_path = \"C:\\\\tmp\\\\test\\\\\" + model + \"\\\\\" + model + \"_az_\" + str(az * 20) + \"_el_\" + str(el * 10) + \"_albedo.png0001.png\"\n",
    "            syn_img_path = \"./rotate/rotate/\" + str(idx * 1000 + az * 10 + el) + \".0.jpg\"\n",
    "            realimg = np.array(Image.open(real_img_path))\n",
    "            synimg = np.array(Image.open(syn_img_path))\n",
    "            \n",
    "            synimg_refined = synimg.copy()\n",
    "            for i in range(128):\n",
    "                for j in range(128):\n",
    "                    if pixel2vertex[az, el, i, j, 0] != 1234567.0:\n",
    "                        synimg_refined[i][j] = np.mean(vertex2color[repr(pixel2vertex[az, el, i, j, 1:])], axis=0)\n",
    "            refine_loss[idx] += np.mean(np.abs(realimg - synimg_refined))\n",
    "    refine_loss[idx] /= 54\n",
    "    print(\"synloss: \" + syn_loss[idx] + \", refinedloss: \" + refine_loss[idx])\n",
    "    \n",
    "print(np.mean(refine_loss) / 256. * 3)"
   ]
  }
 ],
 "metadata": {
  "kernelspec": {
   "display_name": "Python 3",
   "language": "python",
   "name": "python3"
  },
  "language_info": {
   "codemirror_mode": {
    "name": "ipython",
    "version": 3
   },
   "file_extension": ".py",
   "mimetype": "text/x-python",
   "name": "python",
   "nbconvert_exporter": "python",
   "pygments_lexer": "ipython3",
   "version": "3.7.0"
  }
 },
 "nbformat": 4,
 "nbformat_minor": 2
}
